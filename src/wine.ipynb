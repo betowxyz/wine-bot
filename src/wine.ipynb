{
 "metadata": {
  "language_info": {
   "codemirror_mode": {
    "name": "ipython",
    "version": 3
   },
   "file_extension": ".py",
   "mimetype": "text/x-python",
   "name": "python",
   "nbconvert_exporter": "python",
   "pygments_lexer": "ipython3",
   "version": "3.8.6-final"
  },
  "orig_nbformat": 2,
  "kernelspec": {
   "name": "python3",
   "display_name": "Python 3.8.6 64-bit ('.venv')",
   "metadata": {
    "interpreter": {
     "hash": "b0e3230d5c43c83ca2dd7153646a4d3c88cc2d1d09d8eea04338e7c8e3fd7ec5"
    }
   }
  }
 },
 "nbformat": 4,
 "nbformat_minor": 2,
 "cells": [
  {
   "source": [
    "## Wine review\n",
    "### Brief analysis of wine review given by different tasters across different countries"
   ],
   "cell_type": "markdown",
   "metadata": {}
  },
  {
   "cell_type": "code",
   "execution_count": 2,
   "metadata": {},
   "outputs": [],
   "source": [
    "import os\n",
    "import pandas as pd"
   ]
  },
  {
   "cell_type": "code",
   "execution_count": 3,
   "metadata": {},
   "outputs": [],
   "source": [
    "script_dir = os.path.abspath('')\n",
    "data_dir = script_dir.replace('src', '') + 'data/'\n",
    "\n",
    "wine_130k_file_name = 'winemag-data-130k-v2.csv'\n",
    "wine_130k_file = data_dir + wine_130k_file_name\n",
    "wine_130k = pd.read_csv(wine_130k_file, index_col=0)\n",
    "\n",
    "wine_150k_file_name = 'winemag-data-150k-v2.csv'\n",
    "wine_150k_file = data_dir + wine_150k_file_name\n",
    "wine_150k = pd.read_csv(wine_150k_file, index_col=0)\n",
    "\n",
    "wine = pd.concat([wine_150k,wine_130k], axis=0)"
   ]
  },
  {
   "cell_type": "code",
   "execution_count": 4,
   "metadata": {},
   "outputs": [
    {
     "output_type": "stream",
     "name": "stdout",
     "text": [
      "Wine df has 280901 rows and 13 columns\n"
     ]
    }
   ],
   "source": [
    "shape = wine.shape\n",
    "print(f'Wine df has {shape[0]} rows and {shape[1]} columns')"
   ]
  },
  {
   "cell_type": "code",
   "execution_count": 5,
   "metadata": {},
   "outputs": [
    {
     "output_type": "execute_result",
     "data": {
      "text/plain": [
       "  country                                        description  \\\n",
       "0      US  This tremendous 100% varietal wine hails from ...   \n",
       "1   Spain  Ripe aromas of fig, blackberry and cassis are ...   \n",
       "2      US  Mac Watson honors the memory of a wine once ma...   \n",
       "3      US  This spent 20 months in 30% new French oak, an...   \n",
       "4  France  This is the top wine from La Bégude, named aft...   \n",
       "\n",
       "                            designation  points  price        province  \\\n",
       "0                     Martha's Vineyard      96  235.0      California   \n",
       "1  Carodorum Selección Especial Reserva      96  110.0  Northern Spain   \n",
       "2         Special Selected Late Harvest      96   90.0      California   \n",
       "3                               Reserve      96   65.0          Oregon   \n",
       "4                            La Brûlade      95   66.0        Provence   \n",
       "\n",
       "            region_1           region_2             variety  \\\n",
       "0        Napa Valley               Napa  Cabernet Sauvignon   \n",
       "1               Toro                NaN       Tinta de Toro   \n",
       "2     Knights Valley             Sonoma     Sauvignon Blanc   \n",
       "3  Willamette Valley  Willamette Valley          Pinot Noir   \n",
       "4             Bandol                NaN  Provence red blend   \n",
       "\n",
       "                    winery taster_name taster_twitter_handle title  \n",
       "0                    Heitz         NaN                   NaN   NaN  \n",
       "1  Bodega Carmen Rodríguez         NaN                   NaN   NaN  \n",
       "2                 Macauley         NaN                   NaN   NaN  \n",
       "3                    Ponzi         NaN                   NaN   NaN  \n",
       "4     Domaine de la Bégude         NaN                   NaN   NaN  "
      ],
      "text/html": "<div>\n<style scoped>\n    .dataframe tbody tr th:only-of-type {\n        vertical-align: middle;\n    }\n\n    .dataframe tbody tr th {\n        vertical-align: top;\n    }\n\n    .dataframe thead th {\n        text-align: right;\n    }\n</style>\n<table border=\"1\" class=\"dataframe\">\n  <thead>\n    <tr style=\"text-align: right;\">\n      <th></th>\n      <th>country</th>\n      <th>description</th>\n      <th>designation</th>\n      <th>points</th>\n      <th>price</th>\n      <th>province</th>\n      <th>region_1</th>\n      <th>region_2</th>\n      <th>variety</th>\n      <th>winery</th>\n      <th>taster_name</th>\n      <th>taster_twitter_handle</th>\n      <th>title</th>\n    </tr>\n  </thead>\n  <tbody>\n    <tr>\n      <th>0</th>\n      <td>US</td>\n      <td>This tremendous 100% varietal wine hails from ...</td>\n      <td>Martha's Vineyard</td>\n      <td>96</td>\n      <td>235.0</td>\n      <td>California</td>\n      <td>Napa Valley</td>\n      <td>Napa</td>\n      <td>Cabernet Sauvignon</td>\n      <td>Heitz</td>\n      <td>NaN</td>\n      <td>NaN</td>\n      <td>NaN</td>\n    </tr>\n    <tr>\n      <th>1</th>\n      <td>Spain</td>\n      <td>Ripe aromas of fig, blackberry and cassis are ...</td>\n      <td>Carodorum Selección Especial Reserva</td>\n      <td>96</td>\n      <td>110.0</td>\n      <td>Northern Spain</td>\n      <td>Toro</td>\n      <td>NaN</td>\n      <td>Tinta de Toro</td>\n      <td>Bodega Carmen Rodríguez</td>\n      <td>NaN</td>\n      <td>NaN</td>\n      <td>NaN</td>\n    </tr>\n    <tr>\n      <th>2</th>\n      <td>US</td>\n      <td>Mac Watson honors the memory of a wine once ma...</td>\n      <td>Special Selected Late Harvest</td>\n      <td>96</td>\n      <td>90.0</td>\n      <td>California</td>\n      <td>Knights Valley</td>\n      <td>Sonoma</td>\n      <td>Sauvignon Blanc</td>\n      <td>Macauley</td>\n      <td>NaN</td>\n      <td>NaN</td>\n      <td>NaN</td>\n    </tr>\n    <tr>\n      <th>3</th>\n      <td>US</td>\n      <td>This spent 20 months in 30% new French oak, an...</td>\n      <td>Reserve</td>\n      <td>96</td>\n      <td>65.0</td>\n      <td>Oregon</td>\n      <td>Willamette Valley</td>\n      <td>Willamette Valley</td>\n      <td>Pinot Noir</td>\n      <td>Ponzi</td>\n      <td>NaN</td>\n      <td>NaN</td>\n      <td>NaN</td>\n    </tr>\n    <tr>\n      <th>4</th>\n      <td>France</td>\n      <td>This is the top wine from La Bégude, named aft...</td>\n      <td>La Brûlade</td>\n      <td>95</td>\n      <td>66.0</td>\n      <td>Provence</td>\n      <td>Bandol</td>\n      <td>NaN</td>\n      <td>Provence red blend</td>\n      <td>Domaine de la Bégude</td>\n      <td>NaN</td>\n      <td>NaN</td>\n      <td>NaN</td>\n    </tr>\n  </tbody>\n</table>\n</div>"
     },
     "metadata": {},
     "execution_count": 5
    }
   ],
   "source": [
    "wine.head()"
   ]
  },
  {
   "cell_type": "code",
   "execution_count": 6,
   "metadata": {},
   "outputs": [
    {
     "output_type": "execute_result",
     "data": {
      "text/plain": [
       "                          count  unique  \\\n",
       "country                  280833      50   \n",
       "description              280901  169430   \n",
       "designation              197701   47239   \n",
       "points                 280901.0     NaN   \n",
       "price                  258210.0     NaN   \n",
       "province                 280833     490   \n",
       "region_1                 234594    1332   \n",
       "region_2                 111464      18   \n",
       "variety                  280900     756   \n",
       "winery                   280901   19186   \n",
       "taster_name              103727      19   \n",
       "taster_twitter_handle     98758      15   \n",
       "title                    129971  118840   \n",
       "\n",
       "                                                                     top  \\\n",
       "country                                                               US   \n",
       "description            A little bit funky and unsettled when you pop ...   \n",
       "designation                                                      Reserve   \n",
       "points                                                               NaN   \n",
       "price                                                                NaN   \n",
       "province                                                      California   \n",
       "region_1                                                     Napa Valley   \n",
       "region_2                                                   Central Coast   \n",
       "variety                                                       Pinot Noir   \n",
       "winery                                                   Williams Selyem   \n",
       "taster_name                                                   Roger Voss   \n",
       "taster_twitter_handle                                         @vossroger   \n",
       "title                  Gloria Ferrer NV Sonoma Brut Sparkling (Sonoma...   \n",
       "\n",
       "                         freq       mean        std   min   25%   50%   75%  \\\n",
       "country                116901        NaN        NaN   NaN   NaN   NaN   NaN   \n",
       "description                 7        NaN        NaN   NaN   NaN   NaN   NaN   \n",
       "designation              4761        NaN        NaN   NaN   NaN   NaN   NaN   \n",
       "points                    NaN  88.146934   3.151528  80.0  86.0  88.0  90.0   \n",
       "price                     NaN  34.177162  38.611708   4.0  16.0  25.0  40.0   \n",
       "province                80755        NaN        NaN   NaN   NaN   NaN   NaN   \n",
       "region_1                10689        NaN        NaN   NaN   NaN   NaN   NaN   \n",
       "region_2                24122        NaN        NaN   NaN   NaN   NaN   NaN   \n",
       "variety                 27563        NaN        NaN   NaN   NaN   NaN   NaN   \n",
       "winery                    585        NaN        NaN   NaN   NaN   NaN   NaN   \n",
       "taster_name             25514        NaN        NaN   NaN   NaN   NaN   NaN   \n",
       "taster_twitter_handle   25514        NaN        NaN   NaN   NaN   NaN   NaN   \n",
       "title                      11        NaN        NaN   NaN   NaN   NaN   NaN   \n",
       "\n",
       "                          max  \n",
       "country                   NaN  \n",
       "description               NaN  \n",
       "designation               NaN  \n",
       "points                  100.0  \n",
       "price                  3300.0  \n",
       "province                  NaN  \n",
       "region_1                  NaN  \n",
       "region_2                  NaN  \n",
       "variety                   NaN  \n",
       "winery                    NaN  \n",
       "taster_name               NaN  \n",
       "taster_twitter_handle     NaN  \n",
       "title                     NaN  "
      ],
      "text/html": "<div>\n<style scoped>\n    .dataframe tbody tr th:only-of-type {\n        vertical-align: middle;\n    }\n\n    .dataframe tbody tr th {\n        vertical-align: top;\n    }\n\n    .dataframe thead th {\n        text-align: right;\n    }\n</style>\n<table border=\"1\" class=\"dataframe\">\n  <thead>\n    <tr style=\"text-align: right;\">\n      <th></th>\n      <th>count</th>\n      <th>unique</th>\n      <th>top</th>\n      <th>freq</th>\n      <th>mean</th>\n      <th>std</th>\n      <th>min</th>\n      <th>25%</th>\n      <th>50%</th>\n      <th>75%</th>\n      <th>max</th>\n    </tr>\n  </thead>\n  <tbody>\n    <tr>\n      <th>country</th>\n      <td>280833</td>\n      <td>50</td>\n      <td>US</td>\n      <td>116901</td>\n      <td>NaN</td>\n      <td>NaN</td>\n      <td>NaN</td>\n      <td>NaN</td>\n      <td>NaN</td>\n      <td>NaN</td>\n      <td>NaN</td>\n    </tr>\n    <tr>\n      <th>description</th>\n      <td>280901</td>\n      <td>169430</td>\n      <td>A little bit funky and unsettled when you pop ...</td>\n      <td>7</td>\n      <td>NaN</td>\n      <td>NaN</td>\n      <td>NaN</td>\n      <td>NaN</td>\n      <td>NaN</td>\n      <td>NaN</td>\n      <td>NaN</td>\n    </tr>\n    <tr>\n      <th>designation</th>\n      <td>197701</td>\n      <td>47239</td>\n      <td>Reserve</td>\n      <td>4761</td>\n      <td>NaN</td>\n      <td>NaN</td>\n      <td>NaN</td>\n      <td>NaN</td>\n      <td>NaN</td>\n      <td>NaN</td>\n      <td>NaN</td>\n    </tr>\n    <tr>\n      <th>points</th>\n      <td>280901.0</td>\n      <td>NaN</td>\n      <td>NaN</td>\n      <td>NaN</td>\n      <td>88.146934</td>\n      <td>3.151528</td>\n      <td>80.0</td>\n      <td>86.0</td>\n      <td>88.0</td>\n      <td>90.0</td>\n      <td>100.0</td>\n    </tr>\n    <tr>\n      <th>price</th>\n      <td>258210.0</td>\n      <td>NaN</td>\n      <td>NaN</td>\n      <td>NaN</td>\n      <td>34.177162</td>\n      <td>38.611708</td>\n      <td>4.0</td>\n      <td>16.0</td>\n      <td>25.0</td>\n      <td>40.0</td>\n      <td>3300.0</td>\n    </tr>\n    <tr>\n      <th>province</th>\n      <td>280833</td>\n      <td>490</td>\n      <td>California</td>\n      <td>80755</td>\n      <td>NaN</td>\n      <td>NaN</td>\n      <td>NaN</td>\n      <td>NaN</td>\n      <td>NaN</td>\n      <td>NaN</td>\n      <td>NaN</td>\n    </tr>\n    <tr>\n      <th>region_1</th>\n      <td>234594</td>\n      <td>1332</td>\n      <td>Napa Valley</td>\n      <td>10689</td>\n      <td>NaN</td>\n      <td>NaN</td>\n      <td>NaN</td>\n      <td>NaN</td>\n      <td>NaN</td>\n      <td>NaN</td>\n      <td>NaN</td>\n    </tr>\n    <tr>\n      <th>region_2</th>\n      <td>111464</td>\n      <td>18</td>\n      <td>Central Coast</td>\n      <td>24122</td>\n      <td>NaN</td>\n      <td>NaN</td>\n      <td>NaN</td>\n      <td>NaN</td>\n      <td>NaN</td>\n      <td>NaN</td>\n      <td>NaN</td>\n    </tr>\n    <tr>\n      <th>variety</th>\n      <td>280900</td>\n      <td>756</td>\n      <td>Pinot Noir</td>\n      <td>27563</td>\n      <td>NaN</td>\n      <td>NaN</td>\n      <td>NaN</td>\n      <td>NaN</td>\n      <td>NaN</td>\n      <td>NaN</td>\n      <td>NaN</td>\n    </tr>\n    <tr>\n      <th>winery</th>\n      <td>280901</td>\n      <td>19186</td>\n      <td>Williams Selyem</td>\n      <td>585</td>\n      <td>NaN</td>\n      <td>NaN</td>\n      <td>NaN</td>\n      <td>NaN</td>\n      <td>NaN</td>\n      <td>NaN</td>\n      <td>NaN</td>\n    </tr>\n    <tr>\n      <th>taster_name</th>\n      <td>103727</td>\n      <td>19</td>\n      <td>Roger Voss</td>\n      <td>25514</td>\n      <td>NaN</td>\n      <td>NaN</td>\n      <td>NaN</td>\n      <td>NaN</td>\n      <td>NaN</td>\n      <td>NaN</td>\n      <td>NaN</td>\n    </tr>\n    <tr>\n      <th>taster_twitter_handle</th>\n      <td>98758</td>\n      <td>15</td>\n      <td>@vossroger</td>\n      <td>25514</td>\n      <td>NaN</td>\n      <td>NaN</td>\n      <td>NaN</td>\n      <td>NaN</td>\n      <td>NaN</td>\n      <td>NaN</td>\n      <td>NaN</td>\n    </tr>\n    <tr>\n      <th>title</th>\n      <td>129971</td>\n      <td>118840</td>\n      <td>Gloria Ferrer NV Sonoma Brut Sparkling (Sonoma...</td>\n      <td>11</td>\n      <td>NaN</td>\n      <td>NaN</td>\n      <td>NaN</td>\n      <td>NaN</td>\n      <td>NaN</td>\n      <td>NaN</td>\n      <td>NaN</td>\n    </tr>\n  </tbody>\n</table>\n</div>"
     },
     "metadata": {},
     "execution_count": 6
    }
   ],
   "source": [
    "wine.describe(include='all',).T"
   ]
  },
  {
   "cell_type": "code",
   "execution_count": 8,
   "metadata": {},
   "outputs": [
    {
     "output_type": "execute_result",
     "data": {
      "text/plain": [
       "0    This tremendous 100% varietal wine hails from ...\n",
       "0    Aromas include tropical fruit, broom, brimston...\n",
       "Name: description, dtype: object"
      ]
     },
     "metadata": {},
     "execution_count": 8
    }
   ],
   "source": [
    "description = wine['description'][0]\n",
    "description"
   ]
  }
 ]
}